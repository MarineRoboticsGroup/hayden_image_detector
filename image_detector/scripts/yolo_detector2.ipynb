{
  "cells": [
    {
      "cell_type": "code",
      "execution_count": null,
      "metadata": {
        "colab": {
          "base_uri": "https://localhost:8080/"
        },
        "id": "sYdLnP_kZeZn",
        "outputId": "c72467a5-71af-42f6-8f0b-672450d16d56"
      },
      "outputs": [],
      "source": [
        "!pip install ultralytics==8.0.20\n",
        "\n",
        "from IPython import display\n",
        "display.clear_output()\n",
        "\n",
        "import ultralytics\n",
        "ultralytics.checks()"
      ]
    },
    {
      "cell_type": "code",
      "execution_count": null,
      "metadata": {
        "id": "shlSSQ0AbqCX"
      },
      "outputs": [],
      "source": [
        "from ultralytics import YOLO\n",
        "\n",
        "from IPython.display import display, Image"
      ]
    },
    {
      "cell_type": "code",
      "execution_count": null,
      "metadata": {
        "colab": {
          "base_uri": "https://localhost:8080/"
        },
        "id": "E6zuTS2Rbz_b",
        "outputId": "ad6eefd5-6d97-4ace-faea-4e4fefbbfa60"
      },
      "outputs": [],
      "source": [
        "from google.colab import drive\n",
        "drive.mount('/content/drive')"
      ]
    },
    {
      "cell_type": "markdown",
      "metadata": {},
      "source": []
    },
    {
      "cell_type": "code",
      "execution_count": null,
      "metadata": {
        "colab": {
          "base_uri": "https://localhost:8080/"
        },
        "id": "Uc4UTRU2b-lu",
        "outputId": "9066c9fd-61f2-4d18-d847-c5a69bc257c3"
      },
      "outputs": [],
      "source": [
        "%cd /content/drive/MyDrive/YOLOv8"
      ]
    },
    {
      "cell_type": "code",
      "execution_count": null,
      "metadata": {
        "colab": {
          "base_uri": "https://localhost:8080/"
        },
        "id": "162pooP4dO1-",
        "outputId": "68fbb962-fe43-4344-d4b5-64c495266695"
      },
      "outputs": [],
      "source": [
        "!ls"
      ]
    },
    {
      "cell_type": "code",
      "execution_count": null,
      "metadata": {
        "colab": {
          "base_uri": "https://localhost:8080/"
        },
        "id": "1SAHJyEucoXP",
        "outputId": "e8997e25-9e7e-4655-99fc-0e56e0b14147"
      },
      "outputs": [],
      "source": [
        "%cd /content/drive/MyDrive/YOLOv8\n",
        "\n",
        "!yolo task=detect mode=train model=yolov8s.pt data= data.yaml epochs=25 imgsz=320 plots=True"
      ]
    },
    {
      "cell_type": "code",
      "execution_count": null,
      "metadata": {
        "colab": {
          "base_uri": "https://localhost:8080/"
        },
        "id": "PEFITa-2dofM",
        "outputId": "0ebdf757-cdd2-4883-a717-ce4454e5913f"
      },
      "outputs": [],
      "source": [
        "!ls runs/detect/train/"
      ]
    },
    {
      "cell_type": "code",
      "execution_count": null,
      "metadata": {
        "colab": {
          "base_uri": "https://localhost:8080/",
          "height": 467
        },
        "id": "-FfvDGvjhAXW",
        "outputId": "cbc4f889-32bc-4262-ed7d-bba9de04f35a"
      },
      "outputs": [],
      "source": [
        "Image(filename='runs/detect/train/confusion_matrix.png', width=600)"
      ]
    },
    {
      "cell_type": "code",
      "execution_count": null,
      "metadata": {
        "colab": {
          "base_uri": "https://localhost:8080/",
          "height": 317
        },
        "id": "HcrCJuZrhfFz",
        "outputId": "0298842f-27da-4ed9-d2f0-4fa9778d2d36"
      },
      "outputs": [],
      "source": [
        "Image(filename='runs/detect/train/results.png', width=600)"
      ]
    },
    {
      "cell_type": "code",
      "execution_count": null,
      "metadata": {
        "colab": {
          "base_uri": "https://localhost:8080/",
          "height": 617
        },
        "id": "Q_q90gayhhbU",
        "outputId": "3ebce21e-20b3-4af4-cf42-5c0c4e50443b"
      },
      "outputs": [],
      "source": [
        "Image(filename='runs/detect/train/val_batch0_pred.jpg', width=600)"
      ]
    },
    {
      "cell_type": "code",
      "execution_count": null,
      "metadata": {
        "colab": {
          "base_uri": "https://localhost:8080/"
        },
        "id": "T5db1X8dho5q",
        "outputId": "1237deff-91dc-4733-a5bd-2d375ed3b287"
      },
      "outputs": [],
      "source": [
        "!yolo task=detect mode=val model=runs/detect/train/weights/best.pt data=data.yaml"
      ]
    },
    {
      "cell_type": "code",
      "execution_count": null,
      "metadata": {
        "colab": {
          "base_uri": "https://localhost:8080/"
        },
        "id": "CBZQhEaOh2af",
        "outputId": "40160911-3430-43f2-b933-35f6e4abb4f4"
      },
      "outputs": [],
      "source": [
        "!yolo task=detect mode=predict model=runs/detect/train/weights/best.pt conf=0.25 source=/content/drive/MyDrive/YOLOv8/test/images"
      ]
    },
    {
      "cell_type": "code",
      "execution_count": null,
      "metadata": {
        "id": "SA7Mzs1siVPc"
      },
      "outputs": [],
      "source": [
        "import glob\n",
        "from IPython.display import Image\n",
        "\n",
        "for image_path in glob.glob('runs/detect/predict/*.jpg')[:3]:\n",
        "  diplay(Image(filename=image_path, width=600))\n",
        "  print(\"/n\")"
      ]
    }
  ],
  "metadata": {
    "colab": {
      "provenance": []
    },
    "kernelspec": {
      "display_name": "Python 3",
      "name": "python3"
    },
    "language_info": {
      "name": "python"
    }
  },
  "nbformat": 4,
  "nbformat_minor": 0
}
